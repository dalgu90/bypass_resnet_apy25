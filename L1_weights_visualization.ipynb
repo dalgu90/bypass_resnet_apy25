{
 "cells": [
  {
   "cell_type": "code",
   "execution_count": 1,
   "metadata": {
    "collapsed": false
   },
   "outputs": [
    {
     "name": "stdout",
     "output_type": "stream",
     "text": [
      "[aPascal Dataset Configuration]\n",
      "\tDataset root: /home/dalgu/dataset/apascal/dataset_crop_total/\n",
      "\tNumber of attributes: 25\n",
      "[Network Configuration]\n",
      "\tBatch size: 32\n",
      "\tL2 loss weight: 0.000100\n",
      "\tL1 loss weight: 0.001000\n",
      "\tBasenet Training: True\n",
      "\tBasenet lr ratio: 0.100000\n",
      "\tMoving average decay: 0.990000\n",
      "\tNumber of epochs per decay: 50.000000\n",
      "\tLearning rate decay factor: 0.100000\n",
      "\tInitial learning rate 0.100000\n",
      "\tMax gradient norm 1.000000\n"
     ]
    }
   ],
   "source": [
    "%matplotlib inline\n",
    "import numpy as np\n",
    "import cPickle as pickle\n",
    "import matplotlib.pyplot as plt\n",
    "import tensorflow as tf\n",
    "\n",
    "import model\n",
    "import apascal_input as data_input"
   ]
  },
  {
   "cell_type": "code",
   "execution_count": 2,
   "metadata": {
    "collapsed": true
   },
   "outputs": [],
   "source": [
    "def normalized_norm_plot(ckpt_path, weight_out_path):    \n",
    "    # Load attribute names / layer names\n",
    "    attr_names_path = '/home/dalgu/dataset/apascal/attribute_names_apy25.txt'\n",
    "    # attr_names_path = '/data/common_datasets/apascal/attribute_names_apy25.txt'\n",
    "    \n",
    "    with open(attr_names_path, 'r') as fd:\n",
    "        attr_names = [temp.strip() for temp in fd.readlines()]\n",
    "        \n",
    "    layer_names = ['conv1', 'res2a', 'res2b', 'res2c', 'res3a', 'res3b', 'res3c', 'res3d', 'res4a', 'res4b',\n",
    "                   'res4c', 'res4d', 'res4e', 'res4f', 'res5a', 'res5b', 'res5c', 'pool', 'prob']\n",
    "    num_layer = len(layer_names)\n",
    "        \n",
    "    # Build caffenet model & Restore from the checkpoint file\n",
    "    print \"Checkpoint file: \" + ckpt_path    \n",
    "    print \"Output file: \" + weight_out_path\n",
    "    tf.reset_default_graph() # Free all the tensors\n",
    "\n",
    "    test_images, test_labels = model.inputs(True) # False OK\n",
    "    test_probs = model.inference(test_images)\n",
    "\n",
    "    init = tf.initialize_all_variables()\n",
    "    sess = tf.Session(config=tf.ConfigProto(gpu_options=tf.GPUOptions(per_process_gpu_memory_fraction=0.45)))\n",
    "    sess.run(init)\n",
    "\n",
    "    saver = tf.train.Saver(tf.all_variables())\n",
    "    saver.restore(sess, ckpt_path)\n",
    "    \n",
    "    # Load all weights/biases\n",
    "    weights_list, biases_list = ([], [])\n",
    "\n",
    "    var_list = tf.all_variables()\n",
    "\n",
    "    # In the last of list var_list, tensors are stored as\n",
    "    # [..., \"prob/weights1:0\", \"prob/biases1:0\", ..., \"prob/weights25:0\", \"prob/biases25:0\"]\n",
    "    num_attr = len(attr_names)\n",
    "    for i in range(num_attr):\n",
    "        w_t = var_list[-(2*(num_attr-i))]\n",
    "        b_t = var_list[-(2*(num_attr-i))+1]\n",
    "        w_val, b_val = sess.run([w_t, b_t])\n",
    "        weights_list.append(w_val.ravel().tolist())\n",
    "        biases_list.append(b_val[0])\n",
    "    \n",
    "    # Print weight statistics    \n",
    "    format_str = '%-12s - %.5e\\t ~ %.5e\\t, (%.5e, %.5e)'\n",
    "    print \" ====================\"\n",
    "    print 'name         -  min      \\t~ max      \\t, (average\\t, std)'\n",
    "    for weight, name in zip(weights_list, attr_names):\n",
    "        print format_str % (name, np.min(weight), np.max(weight), np.average(weight), np.std(weight))\n",
    "        \n",
    "    print \" ====================\"\n",
    "    weights_list_np = np.array(weights_list)\n",
    "    biases_list_np = np.array(biases_list)\n",
    "    print \"Number of zero weights: %d\" % np.sum(np.abs(weights_list_np) == 0)\n",
    "    print \"Number of weights under 10^-9: %d\" % np.sum(np.abs(weights_list_np) < 10**-9)\n",
    "    print \"Number of weights under 10^-7: %d\" % np.sum(np.abs(weights_list_np) < 10**-7)\n",
    "    print \"Number of weights under 10^-5: %d\" % np.sum(np.abs(weights_list_np) < 10**-5)\n",
    "    print \"Number of weights under 10^-3: %d\" % np.sum(np.abs(weights_list_np) < 10**-3)\n",
    "        \n",
    "    # (Take absolute and) Normalize weights\n",
    "    weights_list_norm = np.zeros([num_attr, num_layer], dtype=np.float32)\n",
    "    for i in range(num_attr):\n",
    "        temp = np.abs(weights_list[i])\n",
    "        weights_list_norm[i, :] = temp / sum(temp)\n",
    "\n",
    "    # Visualize the normalized weights\n",
    "    attr_per_col = 25\n",
    "    plt_scale = 0.5\n",
    "    ncols = int(np.ceil(float(num_attr)/float(attr_per_col)))\n",
    "\n",
    "    plt.figure(figsize=(((num_layer+4.0)*ncols+1.0)*plt_scale, attr_per_col*plt_scale))\n",
    "\n",
    "    for i in range(ncols):\n",
    "        fig = plt.subplot(1, ncols, i+1)\n",
    "\n",
    "        temp_weights_list = weights_list_norm[i*attr_per_col:(i+1)*attr_per_col,:]\n",
    "        temp_attr_names = attr_names[i*attr_per_col:(i+1)*attr_per_col]\n",
    "        temp_row_cnt = len(temp_attr_names)\n",
    "\n",
    "        plt.imshow(temp_weights_list, interpolation='nearest', vmin=0.0, vmax=1.0)\n",
    "\n",
    "        plt.xticks(range(num_layer), layer_names, rotation=90)\n",
    "        fig.xaxis.set_ticks_position('top')\n",
    "        plt.yticks(range(temp_row_cnt), temp_attr_names)\n",
    "\n",
    "    plt.colorbar(aspect=30)\n",
    "\n",
    "    # format_str = '%-15s %f %f %f %f %f %f %f %f'\n",
    "    format_str = '%-13s' + ' %.2f' * num_layer\n",
    "    print \" ====================\"\n",
    "    for i in range(num_attr):\n",
    "        arg_list = tuple([attr_names[i].replace(' ', '-')] + weights_list_norm[i].tolist())\n",
    "        print(format_str % arg_list)\n",
    "    \n",
    "    with open(weight_out_path, 'wb') as fd:\n",
    "        pickle.dump({attr:(weight, bias) for attr, weight, bias in zip(attr_names, weights_list, biases_list)}, fd)\n",
    "    \n",
    "    return weights_list_np, biases_list_np"
   ]
  },
  {
   "cell_type": "code",
   "execution_count": 3,
   "metadata": {
    "collapsed": false,
    "scrolled": false
   },
   "outputs": [
    {
     "name": "stdout",
     "output_type": "stream",
     "text": [
      "Checkpoint file: train_loss_weight2/model.ckpt-3500\n",
      "Output file: train_loss_weight2/l1_weight.pkl\n",
      "\tLoad file list from /home/dalgu/dataset/apascal/dataset_crop_total/test_apy25.txt\n",
      "\tTotal 7668 files\n"
     ]
    },
    {
     "name": "stderr",
     "output_type": "stream",
     "text": [
      "/home/dalgu/.virtualenvs/venv_tf/local/lib/python2.7/site-packages/tensorflow/python/ops/image_ops.py:635: FutureWarning: comparison to `None` will result in an elementwise object comparison in the future.\n",
      "  if width == new_width_const and height == new_height_const:\n"
     ]
    },
    {
     "name": "stdout",
     "output_type": "stream",
     "text": [
      "\tTotal 19 bypass layers\n",
      " ====================\n",
      "name         -  min      \t~ max      \t, (average\t, std)\n",
      "2D Boxy      - -6.94089e-01\t ~ 1.40661e-01\t, (-5.08825e-02, 1.88117e-01)\n",
      "3D Boxy      - -8.17971e-01\t ~ 2.64673e-01\t, (-2.52285e-02, 1.97003e-01)\n",
      "Round        - -7.55735e-01\t ~ 2.12963e-02\t, (-7.09139e-02, 1.87358e-01)\n",
      "Vert Cyl     - -8.37632e-01\t ~ 3.29525e-01\t, (-4.13524e-02, 2.13255e-01)\n",
      "Horiz Cyl    - -7.48066e-01\t ~ 2.97571e-01\t, (-6.70559e-02, 2.07343e-01)\n",
      "Ear          - -6.62862e-01\t ~ 5.72303e-01\t, (-3.87790e-03, 2.06160e-01)\n",
      "Snout        - -6.42398e-01\t ~ 3.84792e-01\t, (-6.34305e-02, 2.14736e-01)\n",
      "Nose         - -7.53239e-01\t ~ 4.21883e-01\t, (-1.77386e-02, 1.98016e-01)\n",
      "Mouth        - -6.69342e-01\t ~ 2.95808e-01\t, (-3.65413e-02, 2.13600e-01)\n",
      "Hair         - -6.40491e-01\t ~ 3.91257e-01\t, (-3.78467e-02, 1.86069e-01)\n",
      "Face         - -6.45915e-01\t ~ 3.58837e-01\t, (-4.00880e-02, 1.96860e-01)\n",
      "Eye          - -6.87204e-01\t ~ 2.86168e-01\t, (-3.50403e-02, 2.01858e-01)\n",
      "Skin         - -6.35597e-01\t ~ 4.53040e-01\t, (-1.03446e-02, 1.86765e-01)\n",
      "Metal        - -8.14944e-01\t ~ 3.04308e-01\t, (-1.61312e-02, 2.07713e-01)\n",
      "Plastic      - -8.61559e-01\t ~ 1.92205e-01\t, (-1.65935e-02, 2.12810e-01)\n",
      "Wood         - -8.02328e-01\t ~ 4.28115e-01\t, (-3.12719e-02, 2.12390e-01)\n",
      "Cloth        - -7.96532e-01\t ~ 3.71466e-01\t, (-2.44777e-02, 2.00363e-01)\n",
      "Furry        - -8.46714e-01\t ~ 3.72059e-01\t, (-1.87007e-02, 2.19466e-01)\n",
      "Glass        - -8.49120e-01\t ~ 3.04728e-01\t, (-2.44091e-02, 2.13143e-01)\n",
      "Feather      - -9.94883e-01\t ~ 4.19954e-01\t, (-4.30815e-02, 2.46865e-01)\n",
      "Wool         - -7.05331e-01\t ~ 2.98893e-01\t, (-3.71593e-02, 2.19275e-01)\n",
      "Clear        - -7.13225e-01\t ~ 2.89830e-01\t, (-4.06055e-02, 1.84766e-01)\n",
      "Shiny        - -6.20447e-01\t ~ 1.75922e-01\t, (-3.21124e-02, 1.71660e-01)\n",
      "Vegetation   - -8.78951e-01\t ~ 2.84666e-01\t, (-2.96268e-02, 2.36523e-01)\n",
      "Leather      - -7.73591e-01\t ~ 2.81674e-01\t, (-6.16084e-02, 1.97658e-01)\n",
      " ====================\n",
      "Number of zero weights: 17\n",
      "Number of weights under 10^-9: 42\n",
      "Number of weights under 10^-7: 107\n",
      "Number of weights under 10^-5: 292\n",
      "Number of weights under 10^-3: 307\n",
      " ====================\n",
      "2D-Boxy       0.08 0.01 0.06 0.07 0.00 0.00 0.00 0.00 0.02 0.00 0.00 0.00 0.00 0.00 0.21 0.39 0.06 0.11 0.00\n",
      "3D-Boxy       0.00 0.00 0.05 0.00 0.00 0.00 0.05 0.00 0.00 0.00 0.00 0.21 0.00 0.00 0.00 0.65 0.00 0.04 0.00\n",
      "Round         0.00 0.00 0.00 0.00 0.00 0.00 0.02 0.08 0.30 0.00 0.03 0.00 0.00 0.03 0.00 0.00 0.00 0.54 0.00\n",
      "Vert-Cyl      0.00 0.00 0.00 0.00 0.00 0.00 0.00 0.00 0.00 0.00 0.00 0.00 0.00 0.01 0.22 0.00 0.20 0.56 0.00\n",
      "Horiz-Cyl     0.00 0.00 0.00 0.00 0.16 0.01 0.00 0.01 0.07 0.00 0.00 0.00 0.00 0.00 0.00 0.40 0.24 0.10 0.00\n",
      "Ear           0.00 0.00 0.00 0.01 0.00 0.00 0.00 0.00 0.09 0.00 0.00 0.00 0.00 0.00 0.09 0.43 0.37 0.00 0.00\n",
      "Snout         0.00 0.00 0.00 0.01 0.02 0.00 0.00 0.00 0.19 0.02 0.01 0.00 0.01 0.00 0.15 0.00 0.27 0.32 0.00\n",
      "Nose          0.00 0.00 0.02 0.03 0.00 0.01 0.00 0.00 0.00 0.00 0.00 0.03 0.00 0.00 0.03 0.56 0.01 0.31 0.00\n",
      "Mouth         0.09 0.00 0.00 0.14 0.00 0.05 0.00 0.00 0.00 0.05 0.00 0.00 0.00 0.00 0.31 0.00 0.21 0.14 0.00\n",
      "Hair          0.00 0.00 0.00 0.00 0.00 0.00 0.00 0.00 0.05 0.05 0.00 0.00 0.00 0.00 0.01 0.42 0.26 0.22 0.00\n",
      "Face          0.00 0.00 0.00 0.08 0.00 0.00 0.00 0.00 0.00 0.01 0.00 0.00 0.00 0.00 0.36 0.12 0.22 0.20 0.00\n",
      "Eye           0.00 0.00 0.00 0.05 0.00 0.00 0.00 0.00 0.15 0.00 0.00 0.00 0.00 0.01 0.36 0.11 0.21 0.11 0.00\n",
      "Skin          0.00 0.00 0.00 0.00 0.00 0.02 0.00 0.05 0.00 0.07 0.00 0.00 0.02 0.00 0.40 0.12 0.29 0.03 0.00\n",
      "Metal         0.00 0.20 0.00 0.01 0.02 0.17 0.03 0.00 0.00 0.00 0.00 0.00 0.00 0.03 0.54 0.00 0.00 0.00 0.00\n",
      "Plastic       0.00 0.00 0.03 0.11 0.00 0.00 0.09 0.00 0.00 0.00 0.00 0.00 0.00 0.09 0.00 0.08 0.08 0.51 0.00\n",
      "Wood          0.00 0.00 0.00 0.00 0.00 0.00 0.00 0.00 0.00 0.00 0.00 0.00 0.00 0.00 0.55 0.15 0.29 0.00 0.00\n",
      "Cloth         0.00 0.00 0.00 0.00 0.00 0.00 0.00 0.00 0.00 0.00 0.00 0.00 0.00 0.00 0.31 0.66 0.00 0.03 0.00\n",
      "Furry         0.00 0.00 0.00 0.03 0.04 0.00 0.00 0.02 0.00 0.00 0.00 0.00 0.00 0.00 0.01 0.23 0.15 0.52 0.00\n",
      "Glass         0.06 0.04 0.08 0.00 0.00 0.00 0.00 0.00 0.00 0.00 0.00 0.00 0.00 0.00 0.51 0.04 0.18 0.09 0.00\n",
      "Feather       0.00 0.00 0.00 0.25 0.01 0.00 0.00 0.00 0.00 0.06 0.07 0.00 0.00 0.00 0.00 0.60 0.00 0.00 0.00\n",
      "Wool          0.02 0.00 0.00 0.00 0.05 0.00 0.04 0.00 0.00 0.00 0.00 0.03 0.00 0.00 0.31 0.38 0.16 0.00 0.00\n",
      "Clear         0.00 0.00 0.00 0.00 0.00 0.00 0.00 0.00 0.02 0.00 0.02 0.00 0.00 0.00 0.22 0.53 0.00 0.21 0.00\n",
      "Shiny         0.00 0.11 0.00 0.00 0.00 0.00 0.12 0.00 0.00 0.00 0.03 0.05 0.00 0.00 0.43 0.25 0.00 0.00 0.00\n",
      "Vegetation    0.00 0.05 0.00 0.00 0.02 0.00 0.00 0.00 0.00 0.13 0.12 0.00 0.05 0.00 0.40 0.11 0.12 0.00 0.00\n",
      "Leather       0.00 0.00 0.00 0.00 0.14 0.13 0.00 0.00 0.00 0.00 0.03 0.00 0.00 0.00 0.09 0.16 0.00 0.45 0.00\n"
     ]
    },
    {
     "data": {
      "image/png": "[encoded data removed]",
      "text/plain": [
       "<matplotlib.figure.Figure at 0x7f2092c3f910>"
      ]
     },
     "metadata": {},
     "output_type": "display_data"
    }
   ],
   "source": [
    "weights_list, biases_list = normalized_norm_plot('train_loss_weight2/model.ckpt-3500',\n",
    "                                                 'train_loss_weight2/l1_weight.pkl')"
   ]
  },
  {
   "cell_type": "code",
   "execution_count": null,
   "metadata": {
    "collapsed": true
   },
   "outputs": [],
   "source": []
  }
 ],
 "metadata": {
  "kernelspec": {
   "display_name": "Python 2",
   "language": "python",
   "name": "python2"
  },
  "language_info": {
   "codemirror_mode": {
    "name": "ipython",
    "version": 2
   },
   "file_extension": ".py",
   "mimetype": "text/x-python",
   "name": "python",
   "nbconvert_exporter": "python",
   "pygments_lexer": "ipython2",
   "version": "2.7.6"
  }
 },
 "nbformat": 4,
 "nbformat_minor": 0
}
